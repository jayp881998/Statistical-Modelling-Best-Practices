{
 "cells": [
  {
   "cell_type": "code",
   "execution_count": 2,
   "metadata": {},
   "outputs": [],
   "source": [
    "#Load Libraries\n",
    "import numpy as np\n",
    "import pandas as pd\n",
    "import matplotlib.pyplot as plt\n",
    "%matplotlib inline\n",
    "import seaborn as sns\n",
    "import warnings\n",
    "warnings.filterwarnings('ignore')"
   ]
  },
  {
   "cell_type": "code",
   "execution_count": 3,
   "metadata": {},
   "outputs": [
    {
     "data": {
      "text/html": [
       "<div>\n",
       "<style scoped>\n",
       "    .dataframe tbody tr th:only-of-type {\n",
       "        vertical-align: middle;\n",
       "    }\n",
       "\n",
       "    .dataframe tbody tr th {\n",
       "        vertical-align: top;\n",
       "    }\n",
       "\n",
       "    .dataframe thead th {\n",
       "        text-align: right;\n",
       "    }\n",
       "</style>\n",
       "<table border=\"1\" class=\"dataframe\">\n",
       "  <thead>\n",
       "    <tr style=\"text-align: right;\">\n",
       "      <th></th>\n",
       "      <th>A</th>\n",
       "      <th>P</th>\n",
       "      <th>C</th>\n",
       "      <th>LK</th>\n",
       "      <th>WK</th>\n",
       "      <th>A_Coef</th>\n",
       "      <th>LKG</th>\n",
       "      <th>target</th>\n",
       "    </tr>\n",
       "  </thead>\n",
       "  <tbody>\n",
       "    <tr>\n",
       "      <th>0</th>\n",
       "      <td>15.26</td>\n",
       "      <td>14.84</td>\n",
       "      <td>0.8710</td>\n",
       "      <td>5.763</td>\n",
       "      <td>3.312</td>\n",
       "      <td>2.221</td>\n",
       "      <td>5.220</td>\n",
       "      <td>0</td>\n",
       "    </tr>\n",
       "    <tr>\n",
       "      <th>1</th>\n",
       "      <td>14.88</td>\n",
       "      <td>14.57</td>\n",
       "      <td>0.8811</td>\n",
       "      <td>5.554</td>\n",
       "      <td>3.333</td>\n",
       "      <td>1.018</td>\n",
       "      <td>4.956</td>\n",
       "      <td>0</td>\n",
       "    </tr>\n",
       "    <tr>\n",
       "      <th>2</th>\n",
       "      <td>14.29</td>\n",
       "      <td>14.09</td>\n",
       "      <td>0.9050</td>\n",
       "      <td>5.291</td>\n",
       "      <td>3.337</td>\n",
       "      <td>2.699</td>\n",
       "      <td>4.825</td>\n",
       "      <td>0</td>\n",
       "    </tr>\n",
       "    <tr>\n",
       "      <th>3</th>\n",
       "      <td>13.84</td>\n",
       "      <td>13.94</td>\n",
       "      <td>0.8955</td>\n",
       "      <td>5.324</td>\n",
       "      <td>3.379</td>\n",
       "      <td>2.259</td>\n",
       "      <td>4.805</td>\n",
       "      <td>0</td>\n",
       "    </tr>\n",
       "    <tr>\n",
       "      <th>4</th>\n",
       "      <td>16.14</td>\n",
       "      <td>14.99</td>\n",
       "      <td>0.9034</td>\n",
       "      <td>5.658</td>\n",
       "      <td>3.562</td>\n",
       "      <td>1.355</td>\n",
       "      <td>5.175</td>\n",
       "      <td>0</td>\n",
       "    </tr>\n",
       "  </tbody>\n",
       "</table>\n",
       "</div>"
      ],
      "text/plain": [
       "       A      P       C     LK     WK  A_Coef    LKG  target\n",
       "0  15.26  14.84  0.8710  5.763  3.312   2.221  5.220       0\n",
       "1  14.88  14.57  0.8811  5.554  3.333   1.018  4.956       0\n",
       "2  14.29  14.09  0.9050  5.291  3.337   2.699  4.825       0\n",
       "3  13.84  13.94  0.8955  5.324  3.379   2.259  4.805       0\n",
       "4  16.14  14.99  0.9034  5.658  3.562   1.355  5.175       0"
      ]
     },
     "execution_count": 3,
     "metadata": {},
     "output_type": "execute_result"
    }
   ],
   "source": [
    "#Load Dataset\n",
    "dataset=pd.read_csv('./WheatData.csv')\n",
    "dataset.head()"
   ]
  },
  {
   "cell_type": "code",
   "execution_count": 4,
   "metadata": {},
   "outputs": [
    {
     "data": {
      "text/html": [
       "<div>\n",
       "<style scoped>\n",
       "    .dataframe tbody tr th:only-of-type {\n",
       "        vertical-align: middle;\n",
       "    }\n",
       "\n",
       "    .dataframe tbody tr th {\n",
       "        vertical-align: top;\n",
       "    }\n",
       "\n",
       "    .dataframe thead th {\n",
       "        text-align: right;\n",
       "    }\n",
       "</style>\n",
       "<table border=\"1\" class=\"dataframe\">\n",
       "  <thead>\n",
       "    <tr style=\"text-align: right;\">\n",
       "      <th></th>\n",
       "      <th>A</th>\n",
       "      <th>P</th>\n",
       "      <th>C</th>\n",
       "      <th>LK</th>\n",
       "      <th>WK</th>\n",
       "      <th>A_Coef</th>\n",
       "      <th>LKG</th>\n",
       "      <th>target</th>\n",
       "    </tr>\n",
       "  </thead>\n",
       "  <tbody>\n",
       "    <tr>\n",
       "      <th>count</th>\n",
       "      <td>210.000000</td>\n",
       "      <td>210.000000</td>\n",
       "      <td>210.000000</td>\n",
       "      <td>210.000000</td>\n",
       "      <td>210.000000</td>\n",
       "      <td>210.000000</td>\n",
       "      <td>210.000000</td>\n",
       "      <td>210.000000</td>\n",
       "    </tr>\n",
       "    <tr>\n",
       "      <th>mean</th>\n",
       "      <td>14.847524</td>\n",
       "      <td>14.559286</td>\n",
       "      <td>0.870999</td>\n",
       "      <td>5.628533</td>\n",
       "      <td>3.258605</td>\n",
       "      <td>3.700201</td>\n",
       "      <td>5.408071</td>\n",
       "      <td>1.000000</td>\n",
       "    </tr>\n",
       "    <tr>\n",
       "      <th>std</th>\n",
       "      <td>2.909699</td>\n",
       "      <td>1.305959</td>\n",
       "      <td>0.023629</td>\n",
       "      <td>0.443063</td>\n",
       "      <td>0.377714</td>\n",
       "      <td>1.503557</td>\n",
       "      <td>0.491480</td>\n",
       "      <td>0.818448</td>\n",
       "    </tr>\n",
       "    <tr>\n",
       "      <th>min</th>\n",
       "      <td>10.590000</td>\n",
       "      <td>12.410000</td>\n",
       "      <td>0.808100</td>\n",
       "      <td>4.899000</td>\n",
       "      <td>2.630000</td>\n",
       "      <td>0.765100</td>\n",
       "      <td>4.519000</td>\n",
       "      <td>0.000000</td>\n",
       "    </tr>\n",
       "    <tr>\n",
       "      <th>25%</th>\n",
       "      <td>12.270000</td>\n",
       "      <td>13.450000</td>\n",
       "      <td>0.856900</td>\n",
       "      <td>5.262250</td>\n",
       "      <td>2.944000</td>\n",
       "      <td>2.561500</td>\n",
       "      <td>5.045000</td>\n",
       "      <td>0.000000</td>\n",
       "    </tr>\n",
       "    <tr>\n",
       "      <th>50%</th>\n",
       "      <td>14.355000</td>\n",
       "      <td>14.320000</td>\n",
       "      <td>0.873450</td>\n",
       "      <td>5.523500</td>\n",
       "      <td>3.237000</td>\n",
       "      <td>3.599000</td>\n",
       "      <td>5.223000</td>\n",
       "      <td>1.000000</td>\n",
       "    </tr>\n",
       "    <tr>\n",
       "      <th>75%</th>\n",
       "      <td>17.305000</td>\n",
       "      <td>15.715000</td>\n",
       "      <td>0.887775</td>\n",
       "      <td>5.979750</td>\n",
       "      <td>3.561750</td>\n",
       "      <td>4.768750</td>\n",
       "      <td>5.877000</td>\n",
       "      <td>2.000000</td>\n",
       "    </tr>\n",
       "    <tr>\n",
       "      <th>max</th>\n",
       "      <td>21.180000</td>\n",
       "      <td>17.250000</td>\n",
       "      <td>0.918300</td>\n",
       "      <td>6.675000</td>\n",
       "      <td>4.033000</td>\n",
       "      <td>8.456000</td>\n",
       "      <td>6.550000</td>\n",
       "      <td>2.000000</td>\n",
       "    </tr>\n",
       "  </tbody>\n",
       "</table>\n",
       "</div>"
      ],
      "text/plain": [
       "                A           P           C          LK          WK      A_Coef  \\\n",
       "count  210.000000  210.000000  210.000000  210.000000  210.000000  210.000000   \n",
       "mean    14.847524   14.559286    0.870999    5.628533    3.258605    3.700201   \n",
       "std      2.909699    1.305959    0.023629    0.443063    0.377714    1.503557   \n",
       "min     10.590000   12.410000    0.808100    4.899000    2.630000    0.765100   \n",
       "25%     12.270000   13.450000    0.856900    5.262250    2.944000    2.561500   \n",
       "50%     14.355000   14.320000    0.873450    5.523500    3.237000    3.599000   \n",
       "75%     17.305000   15.715000    0.887775    5.979750    3.561750    4.768750   \n",
       "max     21.180000   17.250000    0.918300    6.675000    4.033000    8.456000   \n",
       "\n",
       "              LKG      target  \n",
       "count  210.000000  210.000000  \n",
       "mean     5.408071    1.000000  \n",
       "std      0.491480    0.818448  \n",
       "min      4.519000    0.000000  \n",
       "25%      5.045000    0.000000  \n",
       "50%      5.223000    1.000000  \n",
       "75%      5.877000    2.000000  \n",
       "max      6.550000    2.000000  "
      ]
     },
     "execution_count": 4,
     "metadata": {},
     "output_type": "execute_result"
    }
   ],
   "source": [
    "#Show Key Statistics\n",
    "dataset.describe()"
   ]
  },
  {
   "cell_type": "code",
   "execution_count": 5,
   "metadata": {},
   "outputs": [
    {
     "data": {
      "application/vnd.jupyter.widget-view+json": {
       "model_id": "791c508856e84b84bfce6daffce9dff9",
       "version_major": 2,
       "version_minor": 0
      },
      "text/plain": [
       "Summarize dataset:   0%|          | 0/5 [00:00<?, ?it/s]"
      ]
     },
     "metadata": {},
     "output_type": "display_data"
    },
    {
     "data": {
      "application/vnd.jupyter.widget-view+json": {
       "model_id": "2750c492d5de404bb33af3fa1e8f77f7",
       "version_major": 2,
       "version_minor": 0
      },
      "text/plain": [
       "Generate report structure:   0%|          | 0/1 [00:00<?, ?it/s]"
      ]
     },
     "metadata": {},
     "output_type": "display_data"
    },
    {
     "data": {
      "application/vnd.jupyter.widget-view+json": {
       "model_id": "91a999666ce9476b9303c6b7f27c5068",
       "version_major": 2,
       "version_minor": 0
      },
      "text/plain": [
       "Render HTML:   0%|          | 0/1 [00:00<?, ?it/s]"
      ]
     },
     "metadata": {},
     "output_type": "display_data"
    },
    {
     "data": {
      "application/vnd.jupyter.widget-view+json": {
       "model_id": "a06e4a556ee0454f97932344c31d9e31",
       "version_major": 2,
       "version_minor": 0
      },
      "text/plain": [
       "Export report to file:   0%|          | 0/1 [00:00<?, ?it/s]"
      ]
     },
     "metadata": {},
     "output_type": "display_data"
    },
    {
     "data": {
      "text/html": [
       "\n",
       "        <iframe\n",
       "            width=\"900\"\n",
       "            height=\"350\"\n",
       "            src=\"WheatDataReportW5a-lbfgs.html\"\n",
       "            frameborder=\"0\"\n",
       "            allowfullscreen\n",
       "            \n",
       "        ></iframe>\n",
       "        "
      ],
      "text/plain": [
       "<IPython.lib.display.IFrame at 0x2866ad1eb10>"
      ]
     },
     "metadata": {},
     "output_type": "display_data"
    }
   ],
   "source": [
    "#Create Profile Report\n",
    " \n",
    "#Importing package\n",
    "import pandas_profiling as pp\n",
    "from IPython.display import IFrame\n",
    " \n",
    "# Profile Report\n",
    "DiabetesReport = pp.ProfileReport(dataset)\n",
    "DiabetesReport.to_file('WheatDataReportW5a-lbfgs.html')\n",
    "display(IFrame('WheatDataReportW5a-lbfgs.html', width=900, height=350))"
   ]
  },
  {
   "cell_type": "code",
   "execution_count": 6,
   "metadata": {},
   "outputs": [
    {
     "data": {
      "application/vnd.jupyter.widget-view+json": {
       "model_id": "ccb303c908b94e65a80617f22f0bf7a1",
       "version_major": 2,
       "version_minor": 0
      },
      "text/plain": [
       "Summarize dataset:   0%|          | 0/5 [00:00<?, ?it/s]"
      ]
     },
     "metadata": {},
     "output_type": "display_data"
    },
    {
     "data": {
      "application/vnd.jupyter.widget-view+json": {
       "model_id": "dfe30337dc3542138c5dba95b2e0b151",
       "version_major": 2,
       "version_minor": 0
      },
      "text/plain": [
       "Generate report structure:   0%|          | 0/1 [00:00<?, ?it/s]"
      ]
     },
     "metadata": {},
     "output_type": "display_data"
    },
    {
     "data": {
      "application/vnd.jupyter.widget-view+json": {
       "model_id": "004a54a642da421fa405cb5580af54e6",
       "version_major": 2,
       "version_minor": 0
      },
      "text/plain": [
       "Render HTML:   0%|          | 0/1 [00:00<?, ?it/s]"
      ]
     },
     "metadata": {},
     "output_type": "display_data"
    },
    {
     "data": {
      "application/vnd.jupyter.widget-view+json": {
       "model_id": "53a7676d6f074ba4933c2e26263fdf6e",
       "version_major": 2,
       "version_minor": 0
      },
      "text/plain": [
       "Export report to file:   0%|          | 0/1 [00:00<?, ?it/s]"
      ]
     },
     "metadata": {},
     "output_type": "display_data"
    },
    {
     "data": {
      "text/html": [
       "\n",
       "        <iframe\n",
       "            width=\"900\"\n",
       "            height=\"350\"\n",
       "            src=\"WheatDataReport3b.html\"\n",
       "            frameborder=\"0\"\n",
       "            allowfullscreen\n",
       "            \n",
       "        ></iframe>\n",
       "        "
      ],
      "text/plain": [
       "<IPython.lib.display.IFrame at 0x286678269d0>"
      ]
     },
     "metadata": {},
     "output_type": "display_data"
    }
   ],
   "source": [
    "#Create Profile Report\n",
    "#Importing package\n",
    "# !pip install ydata-profiling\n",
    "\n",
    "# Importing the package\n",
    "from ydata_profiling import ProfileReport\n",
    "from IPython.display import IFrame\n",
    "\n",
    "# Assuming 'dataset' is your DataFrame containing the Wheat data\n",
    "# Generate Profile Report\n",
    "WheatDataReport = ProfileReport(dataset)\n",
    "\n",
    "# Save the report as an HTML file\n",
    "WheatDataReport.to_file('WheatDataReport3b.html')\n",
    "\n",
    "# Display the report in the notebook\n",
    "display(IFrame('WheatDataReport3b.html', width=900, height=350))"
   ]
  },
  {
   "cell_type": "code",
   "execution_count": 12,
   "metadata": {},
   "outputs": [
    {
     "name": "stdout",
     "output_type": "stream",
     "text": [
      "A\n",
      "Statistics=0.000, p=1.000\n",
      "Covariance the Same (fail to reject H0)\n",
      "\n",
      "\n",
      "P\n",
      "Statistics=0.000, p=1.000\n",
      "Covariance the Same (fail to reject H0)\n",
      "\n",
      "\n",
      "C\n",
      "Statistics=0.000, p=1.000\n",
      "Covariance the Same (fail to reject H0)\n",
      "\n",
      "\n",
      "LK\n",
      "Statistics=0.000, p=1.000\n",
      "Covariance the Same (fail to reject H0)\n",
      "\n",
      "\n",
      "WK\n",
      "Statistics=0.000, p=1.000\n",
      "Covariance the Same (fail to reject H0)\n",
      "\n",
      "\n",
      "A_Coef\n",
      "Statistics=0.000, p=1.000\n",
      "Covariance the Same (fail to reject H0)\n",
      "\n",
      "\n",
      "LKG\n",
      "Statistics=0.000, p=1.000\n",
      "Covariance the Same (fail to reject H0)\n",
      "\n",
      "\n"
     ]
    }
   ],
   "source": [
    "#Covariance test - Levene Test\n",
    "\n",
    "#   p <= alpha(0.05): reject H0, not the same covariance.\n",
    "#   p > alpha(0.05): fail to reject H0, same covariance.\n",
    "\n",
    "import scipy.stats as stats\n",
    "names=dataset.get('target')\n",
    "\n",
    "cnt=1\n",
    "for col in dataset.columns:\n",
    "    if (col=='target'):\n",
    "        continue\n",
    "        \n",
    "    stat, p = stats.levene(dataset[col][dataset['target'] == names[0]], \n",
    "               dataset[col][dataset['target'] == names[1]])\n",
    "\n",
    "    print(col)\n",
    "    print('Statistics=%.3f, p=%.3f' % (stat, p))\n",
    "    # interpret\n",
    "    alpha = 0.05\n",
    "    if p > alpha:\n",
    "        print('Covariance the Same (fail to reject H0)')\n",
    "        print('\\n')\n",
    "    else:\n",
    "        print('Covariance different(reject H0)')\n",
    "        print('\\n')\n",
    "    cnt +=1    "
   ]
  },
  {
   "cell_type": "code",
   "execution_count": 13,
   "metadata": {},
   "outputs": [
    {
     "name": "stdout",
     "output_type": "stream",
     "text": [
      "A\n",
      "Statistics=0.933, p=0.000\n",
      "Sample does not look Gaussian (reject H0)\n",
      "\n",
      "\n",
      "P\n",
      "Statistics=0.936, p=0.000\n",
      "Sample does not look Gaussian (reject H0)\n",
      "\n",
      "\n",
      "C\n",
      "Statistics=0.973, p=0.000\n",
      "Sample does not look Gaussian (reject H0)\n",
      "\n",
      "\n",
      "LK\n",
      "Statistics=0.944, p=0.000\n",
      "Sample does not look Gaussian (reject H0)\n",
      "\n",
      "\n",
      "WK\n",
      "Statistics=0.961, p=0.000\n",
      "Sample does not look Gaussian (reject H0)\n",
      "\n",
      "\n",
      "A_Coef\n",
      "Statistics=0.984, p=0.015\n",
      "Sample does not look Gaussian (reject H0)\n",
      "\n",
      "\n",
      "LKG\n",
      "Statistics=0.925, p=0.000\n",
      "Sample does not look Gaussian (reject H0)\n",
      "\n",
      "\n",
      "target\n",
      "Statistics=0.793, p=0.000\n",
      "Sample does not look Gaussian (reject H0)\n",
      "\n",
      "\n"
     ]
    }
   ],
   "source": [
    "#Normality test - Shapiro-Wilk Test\n",
    "# p <= alpha(0.05): reject H0, not normal.\n",
    "# p > alpha(0.05): fail to reject H0, normal.\n",
    "\n",
    "from scipy.stats import shapiro\n",
    "\n",
    "cnt=1\n",
    "for col in dataset.columns:\n",
    "    if (col=='Outcome'):\n",
    "        continue\n",
    "        \n",
    "    stat, p = shapiro(dataset[col])\n",
    "\n",
    "    print(col)\n",
    "    print('Statistics=%.3f, p=%.3f' % (stat, p))\n",
    "    # interpret\n",
    "    alpha = 0.05\n",
    "    if p > alpha:\n",
    "        print('Sample looks Gaussian (fail to reject H0)')\n",
    "        print('\\n')\n",
    "    else:\n",
    "        print('Sample does not look Gaussian (reject H0)')\n",
    "        print('\\n')\n",
    "    cnt +=1    "
   ]
  },
  {
   "cell_type": "code",
   "execution_count": 14,
   "metadata": {},
   "outputs": [],
   "source": [
    "#Create x and y variables\n",
    "x = dataset.drop('target', axis=1).to_numpy()\n",
    "Y = dataset['target'].to_numpy()\n",
    "\n",
    "#Create Train and Test Dataset\n",
    "from sklearn.model_selection import train_test_split\n",
    "x_train,x_test,y_train,y_test = train_test_split(x,Y,test_size = 0.2,stratify=Y,random_state = 100)\n",
    "\n",
    "#Fix the imbalanced Classes\n",
    "from imblearn.over_sampling import SMOTE\n",
    "smt=SMOTE(random_state=100)\n",
    "x_train_smt,y_train_smt = smt.fit_resample(x_train,y_train)\n",
    "\n",
    "#Scale the Data\n",
    "from sklearn.preprocessing import StandardScaler\n",
    "sc = StandardScaler()\n",
    "x_train2 = sc.fit_transform(x_train_smt)\n",
    "x_test2 = sc.transform(x_test)\n",
    "\n",
    "#Models\n",
    "from sklearn.discriminant_analysis import LinearDiscriminantAnalysis, QuadraticDiscriminantAnalysis\n",
    "from sklearn.linear_model import LogisticRegression"
   ]
  },
  {
   "cell_type": "code",
   "execution_count": 15,
   "metadata": {},
   "outputs": [
    {
     "name": "stdout",
     "output_type": "stream",
     "text": [
      "Train Data - Class Split\n",
      "Class 0 - 56\n",
      "Class 1 - 56\n",
      "Class 2 - 56\n"
     ]
    }
   ],
   "source": [
    "#Class Balance - Test Data\n",
    "print('Train Data - Class Split')\n",
    "num_zeros = (y_train_smt == 0).sum()\n",
    "num_ones = (y_train_smt == 1).sum()\n",
    "num_two = (y_train_smt == 2).sum()\n",
    "print('Class 0 -',  num_zeros)\n",
    "print('Class 1 -',  num_ones)\n",
    "print('Class 2 -',  num_two)"
   ]
  },
  {
   "cell_type": "code",
   "execution_count": 16,
   "metadata": {},
   "outputs": [
    {
     "name": "stdout",
     "output_type": "stream",
     "text": [
      "\n",
      "Estimator: LDA\n",
      "[[13  1  0]\n",
      " [ 0 14  0]\n",
      " [ 1  0 13]]\n",
      "              precision    recall  f1-score   support\n",
      "\n",
      "           0       0.93      0.93      0.93        14\n",
      "           1       0.93      1.00      0.97        14\n",
      "           2       1.00      0.93      0.96        14\n",
      "\n",
      "    accuracy                           0.95        42\n",
      "   macro avg       0.95      0.95      0.95        42\n",
      "weighted avg       0.95      0.95      0.95        42\n",
      "\n",
      "\n",
      "Estimator: QDA\n",
      "[[12  1  1]\n",
      " [ 0 14  0]\n",
      " [ 1  0 13]]\n",
      "              precision    recall  f1-score   support\n",
      "\n",
      "           0       0.92      0.86      0.89        14\n",
      "           1       0.93      1.00      0.97        14\n",
      "           2       0.93      0.93      0.93        14\n",
      "\n",
      "    accuracy                           0.93        42\n",
      "   macro avg       0.93      0.93      0.93        42\n",
      "weighted avg       0.93      0.93      0.93        42\n",
      "\n",
      "\n",
      "Estimator: LogReg\n",
      "[[12  1  1]\n",
      " [ 2 12  0]\n",
      " [ 0  0 14]]\n",
      "              precision    recall  f1-score   support\n",
      "\n",
      "           0       0.86      0.86      0.86        14\n",
      "           1       0.92      0.86      0.89        14\n",
      "           2       0.93      1.00      0.97        14\n",
      "\n",
      "    accuracy                           0.90        42\n",
      "   macro avg       0.90      0.90      0.90        42\n",
      "weighted avg       0.90      0.90      0.90        42\n",
      "\n"
     ]
    }
   ],
   "source": [
    "#Base LDA, QDA and Logistical Regression Model\n",
    "from sklearn.metrics import classification_report, confusion_matrix  \n",
    "\n",
    "for name,method in [('LDA', LinearDiscriminantAnalysis()),('QDA',QuadraticDiscriminantAnalysis()),\n",
    "                   ('LogReg',LogisticRegression(solver='lbfgs',\n",
    "                                               class_weight='balanced',\n",
    "                                               random_state=100))]: \n",
    "    method.fit(x_train2,y_train_smt)\n",
    "    predict = method.predict(x_test2)\n",
    "    print('\\nEstimator: {}'.format(name)) \n",
    "    print(confusion_matrix(y_test,predict))  \n",
    "    print(classification_report(y_test,predict))         "
   ]
  },
  {
   "cell_type": "code",
   "execution_count": 17,
   "metadata": {},
   "outputs": [],
   "source": [
    "#Construct some pipelines \n",
    "from sklearn.pipeline import Pipeline\n",
    "from sklearn.preprocessing import StandardScaler\n",
    "\n",
    "#Create Pipeline\n",
    "\n",
    "pipeline =[]\n",
    "\n",
    "pipe_lda = Pipeline([('scl', StandardScaler()),\n",
    "                    ('clf', LinearDiscriminantAnalysis())])\n",
    "pipeline.insert(0,pipe_lda)\n",
    "\n",
    "pipe_qda = Pipeline([('scl', StandardScaler()),\n",
    "                    ('clf', QuadraticDiscriminantAnalysis())])\n",
    "pipeline.insert(1,pipe_qda)\n",
    "\n",
    "pipe_logreg = Pipeline([('scl', StandardScaler()),\n",
    "                    ('clf', LogisticRegression(solver='lbfgs',\n",
    "                                               class_weight='balanced',\n",
    "                                               random_state=100))])   \n",
    "pipeline.insert(2,pipe_logreg)\n",
    "    \n",
    "    \n",
    "# Set grid search params \n",
    "\n",
    "modelpara =[]\n",
    "\n",
    "param_gridlda = {'clf__solver':['svd','lsqr','eigen']}\n",
    "modelpara.insert(0,param_gridlda)\n",
    "\n",
    "param_gridqda = {}\n",
    "modelpara.insert(1,param_gridqda)\n",
    "\n",
    "param_gridlogreg = {'clf__C': [0.01, 0.1, 1, 10, 100], \n",
    "                    'clf__penalty': ['l2']}\n",
    "modelpara.insert(2,param_gridlogreg)"
   ]
  },
  {
   "cell_type": "code",
   "execution_count": 18,
   "metadata": {},
   "outputs": [],
   "source": [
    "#Define Plot for learning curve\n",
    "\n",
    "from sklearn.model_selection import learning_curve\n",
    "\n",
    "def plot_learning_curves(model):\n",
    "    train_sizes, train_scores, test_scores = learning_curve(estimator=model,\n",
    "                                                            X=x_train_smt, \n",
    "                                                            y=y_train_smt,\n",
    "                                                            train_sizes= np.linspace(0.1, 1.0, 10),\n",
    "                                                            cv=10,\n",
    "                                                            scoring='recall_weighted',random_state=100)\n",
    "    train_mean = np.mean(train_scores, axis=1)\n",
    "    train_std = np.std(train_scores, axis=1)\n",
    "    test_mean = np.mean(test_scores, axis=1)\n",
    "    test_std = np.std(test_scores, axis=1)\n",
    "    \n",
    "    plt.plot(train_sizes, train_mean,color='blue', marker='o', \n",
    "             markersize=5, label='training recall')\n",
    "    plt.fill_between(train_sizes, train_mean + train_std, train_mean - train_std,\n",
    "                     alpha=0.15, color='blue')\n",
    "\n",
    "    plt.plot(train_sizes, test_mean, color='green', linestyle='--', marker='s', markersize=5,\n",
    "             label='validation recall')\n",
    "    plt.fill_between(train_sizes, test_mean + test_std, test_mean - test_std,\n",
    "                     alpha=0.15, color='green')\n",
    "    plt.grid(True)\n",
    "    plt.xlabel('Number of training samples')\n",
    "    plt.ylabel('Recall')\n",
    "    plt.legend(loc='best')\n",
    "    plt.ylim([0.5, 1.2])\n",
    "    plt.show()"
   ]
  },
  {
   "cell_type": "code",
   "execution_count": 19,
   "metadata": {},
   "outputs": [
    {
     "name": "stdout",
     "output_type": "stream",
     "text": [
      "LDA Learning Curve\n"
     ]
    },
    {
     "data": {
      "image/png": "[encoded data removed]",
      "text/plain": [
       "<Figure size 640x480 with 1 Axes>"
      ]
     },
     "metadata": {},
     "output_type": "display_data"
    },
    {
     "name": "stdout",
     "output_type": "stream",
     "text": [
      "\n",
      " QDA Learning Curve\n"
     ]
    },
    {
     "data": {
      "image/png": "[encoded data removed]",
      "text/plain": [
       "<Figure size 640x480 with 1 Axes>"
      ]
     },
     "metadata": {},
     "output_type": "display_data"
    },
    {
     "name": "stdout",
     "output_type": "stream",
     "text": [
      "\n",
      " Logistic Regression Learning Curve\n"
     ]
    },
    {
     "data": {
      "image/png": "[encoded data removed]",
      "text/plain": [
       "<Figure size 640x480 with 1 Axes>"
      ]
     },
     "metadata": {},
     "output_type": "display_data"
    }
   ],
   "source": [
    "#Plot Learning Curve\n",
    "print('LDA Learning Curve')\n",
    "plot_learning_curves(pipe_lda)\n",
    "print('\\n QDA Learning Curve')\n",
    "plot_learning_curves(pipe_qda)\n",
    "print('\\n Logistic Regression Learning Curve')\n",
    "plot_learning_curves(pipe_logreg)"
   ]
  },
  {
   "cell_type": "code",
   "execution_count": 20,
   "metadata": {},
   "outputs": [
    {
     "name": "stdout",
     "output_type": "stream",
     "text": [
      "Model Evaluation - Recall Score\n",
      "LDA 0.97 +/- 0.03\n",
      "QDA 0.95 +/- 0.05\n",
      "Log Reg 0.95 +/- 0.05\n",
      "\n",
      "\n"
     ]
    },
    {
     "data": {
      "image/png": "[encoded data removed]",
      "text/plain": [
       "<Figure size 1000x500 with 1 Axes>"
      ]
     },
     "metadata": {},
     "output_type": "display_data"
    }
   ],
   "source": [
    "#Model Analysis\n",
    "from sklearn.model_selection import RepeatedKFold\n",
    "from sklearn.model_selection import cross_val_score\n",
    "\n",
    "models=[]\n",
    "models.append(('LDA',pipe_lda))\n",
    "models.append(('QDA',pipe_qda))\n",
    "models.append(('Log Reg',pipe_logreg))\n",
    "\n",
    "#Model Evaluation\n",
    "results =[]\n",
    "names=[]\n",
    "scoring ='recall_weighted'\n",
    "print('Model Evaluation - Recall Score')\n",
    "for name, model in models:\n",
    "    rkf=RepeatedKFold(n_splits=10, n_repeats=5, random_state=100)\n",
    "    cv_results = cross_val_score(model,x_train_smt,y_train_smt,cv=rkf,scoring=scoring)\n",
    "    results.append(cv_results)\n",
    "    names.append(name)\n",
    "    print('{} {:.2f} +/- {:.2f}'.format(name,cv_results.mean(),cv_results.std()))\n",
    "print('\\n') \n",
    "\n",
    "fig = plt.figure(figsize=(10,5))\n",
    "fig.suptitle('Boxplot View')\n",
    "ax = fig.add_subplot(111)\n",
    "sns.boxplot(data=results)\n",
    "ax.set_xticklabels(names)\n",
    "plt.ylabel('Recall')\n",
    "plt.xlabel('Model')\n",
    "plt.show()"
   ]
  },
  {
   "cell_type": "code",
   "execution_count": 21,
   "metadata": {},
   "outputs": [],
   "source": [
    "#Define Gridsearch Function\n",
    "\n",
    "from sklearn.model_selection import GridSearchCV\n",
    "from sklearn.metrics import classification_report, confusion_matrix  \n",
    "\n",
    "def Gridsearch_cv(model, params):\n",
    "    \n",
    "    #Cross-validation Function\n",
    "    cv2=RepeatedKFold(n_splits=10, n_repeats=5, random_state=100)\n",
    "        \n",
    "    #GridSearch CV\n",
    "    gs_clf = GridSearchCV(model, params, cv=cv2,scoring='recall_weighted')\n",
    "    gs_clf = gs_clf.fit(x_train_smt, y_train_smt)\n",
    "    model = gs_clf.best_estimator_\n",
    "    \n",
    "    # Use best model and test data for final evaluation\n",
    "    y_pred = model.predict(x_test)\n",
    "\n",
    "    #Identify Best Parameters to Optimize the Model\n",
    "    bestpara=str(gs_clf.best_params_)\n",
    "    \n",
    "    #Output Validation Statistics\n",
    "    target_names=['Kama','Rosa','Canadian']\n",
    "    print('\\nOptimized Model')\n",
    "    print('\\nModel Name:',str(pipeline.named_steps['clf']))\n",
    "    print('\\nBest Parameters:',bestpara)\n",
    "    print('\\n', confusion_matrix(y_test,y_pred))  \n",
    "    print('\\n',classification_report(y_test,y_pred,target_names=target_names)) \n",
    "        \n",
    "\n",
    "      "
   ]
  },
  {
   "cell_type": "code",
   "execution_count": 22,
   "metadata": {},
   "outputs": [
    {
     "name": "stdout",
     "output_type": "stream",
     "text": [
      "\n",
      "Optimized Model\n",
      "\n",
      "Model Name: LinearDiscriminantAnalysis()\n",
      "\n",
      "Best Parameters: {'clf__solver': 'svd'}\n",
      "\n",
      " [[13  1  0]\n",
      " [ 0 14  0]\n",
      " [ 1  0 13]]\n",
      "\n",
      "               precision    recall  f1-score   support\n",
      "\n",
      "        Kama       0.93      0.93      0.93        14\n",
      "        Rosa       0.93      1.00      0.97        14\n",
      "    Canadian       1.00      0.93      0.96        14\n",
      "\n",
      "    accuracy                           0.95        42\n",
      "   macro avg       0.95      0.95      0.95        42\n",
      "weighted avg       0.95      0.95      0.95        42\n",
      "\n",
      "\n",
      "Optimized Model\n",
      "\n",
      "Model Name: QuadraticDiscriminantAnalysis()\n",
      "\n",
      "Best Parameters: {}\n",
      "\n",
      " [[12  1  1]\n",
      " [ 0 14  0]\n",
      " [ 1  0 13]]\n",
      "\n",
      "               precision    recall  f1-score   support\n",
      "\n",
      "        Kama       0.92      0.86      0.89        14\n",
      "        Rosa       0.93      1.00      0.97        14\n",
      "    Canadian       0.93      0.93      0.93        14\n",
      "\n",
      "    accuracy                           0.93        42\n",
      "   macro avg       0.93      0.93      0.93        42\n",
      "weighted avg       0.93      0.93      0.93        42\n",
      "\n",
      "\n",
      "Optimized Model\n",
      "\n",
      "Model Name: LogisticRegression(class_weight='balanced', random_state=100)\n",
      "\n",
      "Best Parameters: {'clf__C': 100, 'clf__penalty': 'l2'}\n",
      "\n",
      " [[13  1  0]\n",
      " [ 1 12  1]\n",
      " [ 0  0 14]]\n",
      "\n",
      "               precision    recall  f1-score   support\n",
      "\n",
      "        Kama       0.93      0.93      0.93        14\n",
      "        Rosa       0.92      0.86      0.89        14\n",
      "    Canadian       0.93      1.00      0.97        14\n",
      "\n",
      "    accuracy                           0.93        42\n",
      "   macro avg       0.93      0.93      0.93        42\n",
      "weighted avg       0.93      0.93      0.93        42\n",
      "\n"
     ]
    }
   ],
   "source": [
    "#Run Models\n",
    "\n",
    "for pipeline, modelpara in zip(pipeline,modelpara):\n",
    "    Gridsearch_cv(pipeline,modelpara)"
   ]
  }
 ],
 "metadata": {
  "kernelspec": {
   "display_name": "Python 3 (ipykernel)",
   "language": "python",
   "name": "python3"
  },
  "language_info": {
   "codemirror_mode": {
    "name": "ipython",
    "version": 3
   },
   "file_extension": ".py",
   "mimetype": "text/x-python",
   "name": "python",
   "nbconvert_exporter": "python",
   "pygments_lexer": "ipython3",
   "version": "3.11.7"
  }
 },
 "nbformat": 4,
 "nbformat_minor": 2
}
